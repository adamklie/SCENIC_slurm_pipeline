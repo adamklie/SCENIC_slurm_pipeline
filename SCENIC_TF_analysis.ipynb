{
 "cells": [
  {
   "cell_type": "markdown",
   "id": "90a88efe-ebb3-424c-8704-fb4ee189af2c",
   "metadata": {},
   "source": [
    "# Template SCENIC Analysis of Specific Regulon"
   ]
  },
  {
   "cell_type": "markdown",
   "id": "2d058003-a667-4b45-9ddc-e47efe48e0e1",
   "metadata": {
    "tags": []
   },
   "source": [
    "**Authorship:**\n",
    "Adam Klie, *02/16/2022*\n",
    "***\n",
    "**Description:**\n",
    "Template notebook for analysis of SCENIC results after running the SCENICprotocol for a particular TF (or set of TFs) of interest\n",
    "***\n",
    "**TODOs:**\n",
    " - <font color='red'> Apply to Kivil's data </font>\n",
    "***"
   ]
  },
  {
   "cell_type": "markdown",
   "id": "a2a2c4a5-1dac-4dce-8e87-cb83f07de4c3",
   "metadata": {
    "execution": {
     "iopub.execute_input": "2021-09-05T21:21:18.602440Z",
     "iopub.status.busy": "2021-09-05T21:21:18.602151Z",
     "iopub.status.idle": "2021-09-05T21:21:18.606439Z",
     "shell.execute_reply": "2021-09-05T21:21:18.605256Z",
     "shell.execute_reply.started": "2021-09-05T21:21:18.602409Z"
    },
    "tags": []
   },
   "source": [
    "## Set-up"
   ]
  },
  {
   "cell_type": "code",
   "execution_count": 371,
   "id": "cb926e22-89b0-4eb1-9fb5-33cddd149f95",
   "metadata": {
    "execution": {
     "iopub.execute_input": "2022-02-22T22:49:36.944230Z",
     "iopub.status.busy": "2022-02-22T22:49:36.943916Z",
     "iopub.status.idle": "2022-02-22T22:49:38.172609Z",
     "shell.execute_reply": "2022-02-22T22:49:38.171865Z",
     "shell.execute_reply.started": "2022-02-22T22:49:36.944197Z"
    },
    "tags": []
   },
   "outputs": [
    {
     "name": "stdout",
     "output_type": "stream",
     "text": [
      "scanpy==1.7.2 anndata==0.7.8 umap==0.5.2 numpy==1.19.5 scipy==1.5.3 pandas==1.1.5 scikit-learn==0.23.2 statsmodels==0.12.2 python-igraph==0.9.1 louvain==0.7.0\n"
     ]
    }
   ],
   "source": [
    "# The classics\n",
    "import os\n",
    "import glob\n",
    "import pandas as pd\n",
    "import scanpy as sc\n",
    "import loompy as lp\n",
    "\n",
    "import sys\n",
    "sys.path.append(\"/cellar/users/aklie/opt/shared/SCENIC/test/scripts\")\n",
    "\n",
    "# Autoreload extension\n",
    "if 'autoreload' not in get_ipython().extension_manager.loaded:\n",
    "    %load_ext autoreload\n",
    "%autoreload 2\n",
    "\n",
    "sc.logging.print_header()"
   ]
  },
  {
   "cell_type": "code",
   "execution_count": 329,
   "id": "2b6a3d21-c514-4c25-a0c5-d6d5253bce4e",
   "metadata": {
    "execution": {
     "iopub.execute_input": "2022-02-22T22:17:07.932472Z",
     "iopub.status.busy": "2022-02-22T22:17:07.932156Z",
     "iopub.status.idle": "2022-02-22T22:17:09.128174Z",
     "shell.execute_reply": "2022-02-22T22:17:09.127376Z",
     "shell.execute_reply.started": "2022-02-22T22:17:07.932429Z"
    },
    "tags": []
   },
   "outputs": [],
   "source": [
    "DATA=\"\"\n",
    "OUT=\"\"\n",
    "NAME=\"\"\n",
    "TF=\"\""
   ]
  },
  {
   "cell_type": "markdown",
   "id": "524af904",
   "metadata": {
    "tags": []
   },
   "source": [
    "# Load SCENIC results"
   ]
  },
  {
   "cell_type": "markdown",
   "id": "b8e37d29-9634-415e-b0d5-d70397137577",
   "metadata": {},
   "source": [
    "## adata object"
   ]
  },
  {
   "cell_type": "code",
   "execution_count": 314,
   "id": "3faa1be1-a732-4c2f-ba6f-6aa7f72a8270",
   "metadata": {
    "execution": {
     "iopub.execute_input": "2022-02-22T22:06:26.164064Z",
     "iopub.status.busy": "2022-02-22T22:06:26.163824Z",
     "iopub.status.idle": "2022-02-22T22:06:28.784721Z",
     "shell.execute_reply": "2022-02-22T22:06:28.783965Z",
     "shell.execute_reply.started": "2022-02-22T22:06:26.164035Z"
    },
    "tags": []
   },
   "outputs": [],
   "source": [
    "adata = sc.read(os.path.join(DATA, NAME + \".loom\"), validate=False)\n",
    "genes = adata.var.index\n",
    "cells = adata.obs.index"
   ]
  },
  {
   "cell_type": "markdown",
   "id": "5005c0d8-5aa7-48c8-803e-1ce559838878",
   "metadata": {},
   "source": [
    "## GRN Inference"
   ]
  },
  {
   "cell_type": "code",
   "execution_count": 322,
   "id": "805a2a6e-5c9f-49a9-89fb-ab1095acd465",
   "metadata": {
    "execution": {
     "iopub.execute_input": "2022-02-22T22:15:08.998450Z",
     "iopub.status.busy": "2022-02-22T22:15:08.998151Z",
     "iopub.status.idle": "2022-02-22T22:15:10.076232Z",
     "shell.execute_reply": "2022-02-22T22:15:10.075467Z",
     "shell.execute_reply.started": "2022-02-22T22:15:08.998419Z"
    },
    "tags": []
   },
   "outputs": [],
   "source": [
    "from utils import parse_adj"
   ]
  },
  {
   "cell_type": "code",
   "execution_count": 327,
   "id": "bd092a19-9453-4884-b105-c4bca6c6bb8b",
   "metadata": {
    "execution": {
     "iopub.execute_input": "2022-02-22T22:16:40.393378Z",
     "iopub.status.busy": "2022-02-22T22:16:40.393034Z",
     "iopub.status.idle": "2022-02-22T22:16:46.162652Z",
     "shell.execute_reply": "2022-02-22T22:16:46.161951Z",
     "shell.execute_reply.started": "2022-02-22T22:16:40.393344Z"
    },
    "tags": []
   },
   "outputs": [
    {
     "name": "stderr",
     "output_type": "stream",
     "text": [
      "/cellar/users/aklie/opt/miniconda3/envs/single_cell_py/lib/python3.6/site-packages/pandas/core/generic.py:3889: PerformanceWarning: dropping on a non-lexsorted multi-index without a level parameter may impact performance.\n",
      "  obj = obj._drop_axis(labels, axis, level=level, errors=errors)\n"
     ]
    }
   ],
   "source": [
    "files = glob.glob(os.path.join(OUT, NAME + \"_run*_adj.tsv\"))\n",
    "multi_adj, ranked_genes = parse_adj(files, tfs=[TF])"
   ]
  },
  {
   "cell_type": "markdown",
   "id": "6176f6bf-901b-43a5-a64f-4b17b43f3598",
   "metadata": {},
   "source": [
    "## Loom files - regulons and AUC"
   ]
  },
  {
   "cell_type": "code",
   "execution_count": 369,
   "id": "2e5e951b-7494-430b-9794-7244c71b1441",
   "metadata": {
    "execution": {
     "iopub.execute_input": "2022-02-22T22:49:18.943383Z",
     "iopub.status.busy": "2022-02-22T22:49:18.943066Z",
     "iopub.status.idle": "2022-02-22T22:49:20.400933Z",
     "shell.execute_reply": "2022-02-22T22:49:20.400246Z",
     "shell.execute_reply.started": "2022-02-22T22:49:18.943350Z"
    },
    "tags": []
   },
   "outputs": [],
   "source": [
    "from utils import parse_loom"
   ]
  },
  {
   "cell_type": "code",
   "execution_count": 372,
   "id": "d7911397-f5a2-4e72-900e-30c5c210f070",
   "metadata": {
    "execution": {
     "iopub.execute_input": "2022-02-22T22:49:41.504718Z",
     "iopub.status.busy": "2022-02-22T22:49:41.504398Z",
     "iopub.status.idle": "2022-02-22T22:49:43.369568Z",
     "shell.execute_reply": "2022-02-22T22:49:43.368784Z",
     "shell.execute_reply.started": "2022-02-22T22:49:41.504686Z"
    },
    "tags": []
   },
   "outputs": [
    {
     "name": "stdout",
     "output_type": "stream",
     "text": [
      "/cellar/users/aklie/data/shared/kivil/out/runx1_dox_regressed_LOF_run1_pyscenic_output.loom\n",
      "/cellar/users/aklie/data/shared/kivil/out/runx1_dox_regressed_LOF_run2_pyscenic_output.loom\n",
      "/cellar/users/aklie/data/shared/kivil/out/runx1_dox_regressed_LOF_run3_pyscenic_output.loom\n",
      "/cellar/users/aklie/data/shared/kivil/out/runx1_dox_regressed_LOF_run4_pyscenic_output.loom\n",
      "/cellar/users/aklie/data/shared/kivil/out/runx1_dox_regressed_LOF_run5_pyscenic_output.loom\n"
     ]
    }
   ],
   "source": [
    "files = glob.glob(os.path.join(OUT, NAME + \"_run*_pyscenic_output.loom\"))\n",
    "RUNX1_regulons, RUNX1_activities = parse_loom(files, tf=TF, cells=cells, genes=genes)"
   ]
  },
  {
   "cell_type": "markdown",
   "id": "ed7ffd88-94c2-45f2-ad87-9f255e8073ff",
   "metadata": {},
   "source": [
    "# References"
   ]
  }
 ],
 "metadata": {
  "kernelspec": {
   "display_name": "Python 3 single_cell",
   "language": "python",
   "name": "single_cell_py"
  },
  "language_info": {
   "codemirror_mode": {
    "name": "ipython",
    "version": 3
   },
   "file_extension": ".py",
   "mimetype": "text/x-python",
   "name": "python",
   "nbconvert_exporter": "python",
   "pygments_lexer": "ipython3",
   "version": "3.6.15"
  }
 },
 "nbformat": 4,
 "nbformat_minor": 5
}
