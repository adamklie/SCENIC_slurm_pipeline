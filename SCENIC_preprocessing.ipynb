{
 "cells": [
  {
   "cell_type": "markdown",
   "id": "d99645f0-713a-4064-99ea-5518082596d8",
   "metadata": {},
   "source": [
    "# Notebook Title"
   ]
  },
  {
   "cell_type": "markdown",
   "id": "bac65253-7a9d-48a8-8540-b9ab6effa055",
   "metadata": {
    "tags": []
   },
   "source": [
    "**Authorship:**\n",
    "Author, *MM/DD/YYYY*\n",
    "***\n",
    "**Description:**\n",
    "Notebook to do some cool stuff\n",
    "***\n",
    "**TODOs:**\n",
    " - <font color='green'> Done TODO </font>\n",
    " - <font color='orange'> WIP TODO </font>\n",
    " - <font color='red'> Queued TODO </font>\n",
    "***"
   ]
  },
  {
   "cell_type": "markdown",
   "id": "23bfde78-12eb-4c1e-b863-cdc35071bae2",
   "metadata": {
    "execution": {
     "iopub.execute_input": "2021-09-05T21:21:18.602440Z",
     "iopub.status.busy": "2021-09-05T21:21:18.602151Z",
     "iopub.status.idle": "2021-09-05T21:21:18.606439Z",
     "shell.execute_reply": "2021-09-05T21:21:18.605256Z",
     "shell.execute_reply.started": "2021-09-05T21:21:18.602409Z"
    },
    "tags": []
   },
   "source": [
    "## Set-up"
   ]
  },
  {
   "cell_type": "code",
   "execution_count": 2,
   "id": "26c0a382-7677-408e-a1cf-4dfbd4a8d73d",
   "metadata": {
    "execution": {
     "iopub.execute_input": "2021-09-11T07:07:46.396694Z",
     "iopub.status.busy": "2021-09-11T07:07:46.396412Z",
     "iopub.status.idle": "2021-09-11T07:07:46.803837Z",
     "shell.execute_reply": "2021-09-11T07:07:46.803088Z",
     "shell.execute_reply.started": "2021-09-11T07:07:46.396653Z"
    },
    "tags": []
   },
   "outputs": [],
   "source": [
    "# The classics\n",
    "\n",
    "# Autoreload extension\n",
    "if 'autoreload' not in get_ipython().extension_manager.loaded:\n",
    "    %load_ext autoreload\n",
    "%autoreload 2"
   ]
  },
  {
   "cell_type": "code",
   "execution_count": 3,
   "id": "53240b42-46bb-4586-94f9-159798ba1d0d",
   "metadata": {
    "execution": {
     "iopub.execute_input": "2021-09-11T07:07:47.514573Z",
     "iopub.status.busy": "2021-09-11T07:07:47.514322Z",
     "iopub.status.idle": "2021-09-11T07:07:47.949448Z",
     "shell.execute_reply": "2021-09-11T07:07:47.948782Z",
     "shell.execute_reply.started": "2021-09-11T07:07:47.514543Z"
    },
    "tags": []
   },
   "outputs": [],
   "source": [
    "# Directory definition\n",
    "dir = \"/path/to/dir\""
   ]
  },
  {
   "cell_type": "markdown",
   "id": "7417ab3d-ad04-447b-84f3-cbb01e66f74e",
   "metadata": {
    "tags": []
   },
   "source": [
    "## Part 1\n",
    "Description"
   ]
  },
  {
   "cell_type": "markdown",
   "id": "d8cc6faa-9cf6-4e49-b84a-386d91349a78",
   "metadata": {
    "tags": []
   },
   "source": [
    "## Part 2\n",
    "Description"
   ]
  },
  {
   "cell_type": "markdown",
   "id": "88b4524b-1ccd-47c3-b908-45f1b13dd03f",
   "metadata": {
    "execution": {
     "iopub.execute_input": "2021-09-08T17:29:42.314098Z",
     "iopub.status.busy": "2021-09-08T17:29:42.313838Z",
     "iopub.status.idle": "2021-09-08T17:29:42.903968Z",
     "shell.execute_reply": "2021-09-08T17:29:42.903216Z",
     "shell.execute_reply.started": "2021-09-08T17:29:42.314069Z"
    },
    "tags": []
   },
   "source": [
    "# Scratch\n",
    "Place for old or testing code"
   ]
  },
  {
   "cell_type": "markdown",
   "id": "50df8335-830e-4f78-8a11-f59979920ae0",
   "metadata": {},
   "source": [
    "# References"
   ]
  }
 ],
 "metadata": {
  "kernelspec": {
   "display_name": "",
   "name": ""
  },
  "language_info": {
   "name": ""
  }
 },
 "nbformat": 4,
 "nbformat_minor": 5
}
