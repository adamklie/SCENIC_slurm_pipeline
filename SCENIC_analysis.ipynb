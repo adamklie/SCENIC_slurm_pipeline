{
 "cells": [
  {
   "cell_type": "markdown",
   "id": "90a88efe-ebb3-424c-8704-fb4ee189af2c",
   "metadata": {},
   "source": [
    "# Template SCENIC Analysis"
   ]
  },
  {
   "cell_type": "markdown",
   "id": "2d058003-a667-4b45-9ddc-e47efe48e0e1",
   "metadata": {
    "tags": []
   },
   "source": [
    "**Authorship:**\n",
    "Adam Klie, *02/16/2022*\n",
    "***\n",
    "**Description:**\n",
    "Template notebook for loading SCENIC results after running the SCENICprotocol\n",
    "***\n",
    "**TODOs:**\n",
    " - <font color='green'> Done TODO </font>\n",
    " - <font color='orange'> WIP TODO </font>\n",
    " - <font color='red'> Queued TODO </font>\n",
    "***"
   ]
  },
  {
   "cell_type": "markdown",
   "id": "a2a2c4a5-1dac-4dce-8e87-cb83f07de4c3",
   "metadata": {
    "execution": {
     "iopub.execute_input": "2021-09-05T21:21:18.602440Z",
     "iopub.status.busy": "2021-09-05T21:21:18.602151Z",
     "iopub.status.idle": "2021-09-05T21:21:18.606439Z",
     "shell.execute_reply": "2021-09-05T21:21:18.605256Z",
     "shell.execute_reply.started": "2021-09-05T21:21:18.602409Z"
    },
    "tags": []
   },
   "source": [
    "## Set-up"
   ]
  },
  {
   "cell_type": "code",
   "execution_count": 2,
   "id": "3ebaff6f",
   "metadata": {
    "execution": {
     "iopub.execute_input": "2022-02-17T22:45:59.663925Z",
     "iopub.status.busy": "2022-02-17T22:45:59.663747Z",
     "iopub.status.idle": "2022-02-17T22:46:14.511517Z",
     "shell.execute_reply": "2022-02-17T22:46:14.511098Z",
     "shell.execute_reply.started": "2022-02-17T22:45:59.663908Z"
    },
    "tags": []
   },
   "outputs": [],
   "source": [
    "# The classics\n",
    "import os\n",
    "import glob\n",
    "import pickle\n",
    "import pandas as pd\n",
    "import numpy as np\n",
    "import scanpy as sc\n",
    "import loompy as lp\n",
    "\n",
    "from dask.diagnostics import ProgressBar\n",
    "\n",
    "from arboreto.utils import load_tf_names\n",
    "from arboreto.algo import grnboost2\n",
    "\n",
    "from ctxcore.rnkdb import FeatherRankingDatabase as RankingDatabase\n",
    "from pyscenic.utils import modules_from_adjacencies, load_motifs\n",
    "from pyscenic.prune import prune2df, df2regulons\n",
    "from pyscenic.aucell import aucell\n",
    "\n",
    "import matplotlib.pyplot as plt\n",
    "import seaborn as sns\n",
    "\n",
    "DATA_FOLDER=\"/cellar/users/aklie/data/SCENIC/test\"\n",
    "RESOURCES_FOLDER=\"/cellar/users/aklie/data/SCENIC\"\n",
    "DATABASE_FOLDER = \"/cellar/users/aklie/data/SCENIC/databases\"\n",
    "DATABASES_GLOB = os.path.join(DATABASE_FOLDER, \"mm9-*.mc9nr.feather\")\n",
    "MOTIF_ANNOTATIONS_FNAME = os.path.join(RESOURCES_FOLDER, \"motifs-v9-nr.mgi-m0.001-o0.0.tbl\")\n",
    "MM_TFS_FNAME = os.path.join(RESOURCES_FOLDER, 'mm_tfs.txt')\n",
    "\n",
    "REGULONS_FNAME = os.path.join(DATA_FOLDER, \"regulons.p\")\n",
    "MOTIFS_FNAME = os.path.join(DATA_FOLDER, \"motifs.csv\")\n",
    "\n",
    "# Autoreload extension\n",
    "if 'autoreload' not in get_ipython().extension_manager.loaded:\n",
    "    %load_ext autoreload\n",
    "%autoreload 2"
   ]
  },
  {
   "cell_type": "markdown",
   "id": "524af904",
   "metadata": {
    "tags": []
   },
   "source": [
    "# Load SCENIC results"
   ]
  },
  {
   "cell_type": "markdown",
   "id": "6919caaf-7cd0-4cd9-abd2-595686007f8c",
   "metadata": {},
   "source": [
    "## Visualize the AUC matrix"
   ]
  },
  {
   "cell_type": "code",
   "execution_count": 13,
   "id": "0ba9436e-6e8e-4f6f-abb2-54286a08ae9c",
   "metadata": {
    "execution": {
     "iopub.execute_input": "2022-02-17T22:56:47.289031Z",
     "iopub.status.busy": "2022-02-17T22:56:47.288768Z",
     "iopub.status.idle": "2022-02-17T22:56:51.268490Z",
     "shell.execute_reply": "2022-02-17T22:56:51.267963Z",
     "shell.execute_reply.started": "2022-02-17T22:56:47.289014Z"
    },
    "tags": []
   },
   "outputs": [],
   "source": [
    "import json\n",
    "import zlib\n",
    "import base64\n",
    "\n",
    "# collect SCENIC AUCell output\n",
    "lf = lp.connect(\"out/test_pyscenic_output.loom\", mode='r+', validate=False )\n",
    "meta = json.loads(zlib.decompress(base64.b64decode( lf.attrs.MetaData )))\n",
    "exprMat = pd.DataFrame( lf[:,:], index=lf.ra.Gene, columns=lf.ca.CellID).T\n",
    "auc_mtx = pd.DataFrame( lf.ca.RegulonsAUC, index=lf.ca.CellID)\n"
   ]
  },
  {
   "cell_type": "code",
   "execution_count": 14,
   "id": "80b09399-c7a1-4749-99cb-30dc1a1b0751",
   "metadata": {
    "execution": {
     "iopub.execute_input": "2022-02-17T22:56:51.269466Z",
     "iopub.status.busy": "2022-02-17T22:56:51.269338Z",
     "iopub.status.idle": "2022-02-17T22:56:52.333855Z",
     "shell.execute_reply": "2022-02-17T22:56:52.333357Z",
     "shell.execute_reply.started": "2022-02-17T22:56:51.269450Z"
    },
    "tags": []
   },
   "outputs": [],
   "source": [
    "# create a dictionary of regulons:\n",
    "regulons = {}\n",
    "for i,r in pd.DataFrame(lf.ra.Regulons,index=lf.ra.Gene).iteritems():\n",
    "    regulons[i] =  list(r[r==1].index.values)"
   ]
  },
  {
   "cell_type": "code",
   "execution_count": 20,
   "id": "853bb506-cd0f-47e1-8e22-90cb9659af10",
   "metadata": {
    "execution": {
     "iopub.execute_input": "2022-02-17T23:01:30.255478Z",
     "iopub.status.busy": "2022-02-17T23:01:30.255296Z",
     "iopub.status.idle": "2022-02-17T23:01:31.214419Z",
     "shell.execute_reply": "2022-02-17T23:01:31.213957Z",
     "shell.execute_reply.started": "2022-02-17T23:01:30.255459Z"
    },
    "tags": []
   },
   "outputs": [
    {
     "name": "stderr",
     "output_type": "stream",
     "text": [
      "WARNING:root:Connection to out/test_pyscenic_output.loom is already closed\n"
     ]
    }
   ],
   "source": [
    "lf.close()"
   ]
  },
  {
   "cell_type": "code",
   "execution_count": 21,
   "id": "69f90477-9a7c-4aa7-a0c9-fc050bb2791c",
   "metadata": {
    "execution": {
     "iopub.execute_input": "2022-02-17T23:01:38.972332Z",
     "iopub.status.busy": "2022-02-17T23:01:38.972134Z",
     "iopub.status.idle": "2022-02-17T23:01:45.447613Z",
     "shell.execute_reply": "2022-02-17T23:01:45.447075Z",
     "shell.execute_reply.started": "2022-02-17T23:01:38.972314Z"
    }
   },
   "outputs": [],
   "source": [
    "adata = sc.read(\"out/test_pyscenic_output.loom\", validate=False)"
   ]
  },
  {
   "cell_type": "code",
   "execution_count": 22,
   "id": "d9f06cd9-0323-4799-8f9a-571894f77dc0",
   "metadata": {
    "execution": {
     "iopub.execute_input": "2022-02-17T23:01:46.391499Z",
     "iopub.status.busy": "2022-02-17T23:01:46.391332Z",
     "iopub.status.idle": "2022-02-17T23:01:47.407232Z",
     "shell.execute_reply": "2022-02-17T23:01:47.406784Z",
     "shell.execute_reply.started": "2022-02-17T23:01:46.391478Z"
    }
   },
   "outputs": [
    {
     "data": {
      "text/plain": [
       "AnnData object with n_obs × n_vars = 10280 × 20292\n",
       "    obs: 'RegulonsAUC', 'nGene', 'nUMI'\n",
       "    var: 'Regulons'"
      ]
     },
     "execution_count": 22,
     "metadata": {},
     "output_type": "execute_result"
    }
   ],
   "source": [
    "adata"
   ]
  },
  {
   "cell_type": "code",
   "execution_count": 15,
   "id": "e6faedeb-73b9-4bf2-a35d-6f4d73b72d4b",
   "metadata": {
    "execution": {
     "iopub.execute_input": "2022-02-17T22:56:55.310948Z",
     "iopub.status.busy": "2022-02-17T22:56:55.310335Z",
     "iopub.status.idle": "2022-02-17T22:56:56.460054Z",
     "shell.execute_reply": "2022-02-17T22:56:56.459432Z",
     "shell.execute_reply.started": "2022-02-17T22:56:55.310469Z"
    }
   },
   "outputs": [
    {
     "ename": "AttributeError",
     "evalue": "'<class 'loompy.attribute_manager.AttributeManager'>' object has no attribute 'Celltype_Garnett'",
     "output_type": "error",
     "traceback": [
      "\u001b[0;31m---------------------------------------------------------------------------\u001b[0m",
      "\u001b[0;31mKeyError\u001b[0m                                  Traceback (most recent call last)",
      "\u001b[0;32m~/opt/miniconda3/envs/single_cell_py/lib/python3.6/site-packages/loompy/attribute_manager.py\u001b[0m in \u001b[0;36m__getattr__\u001b[0;34m(self, name)\u001b[0m\n\u001b[1;32m    114\u001b[0m                 \u001b[0;32mtry\u001b[0m\u001b[0;34m:\u001b[0m\u001b[0;34m\u001b[0m\u001b[0;34m\u001b[0m\u001b[0m\n\u001b[0;32m--> 115\u001b[0;31m                         \u001b[0mvals\u001b[0m \u001b[0;34m=\u001b[0m \u001b[0mself\u001b[0m\u001b[0;34m.\u001b[0m\u001b[0m__dict__\u001b[0m\u001b[0;34m[\u001b[0m\u001b[0;34m\"storage\"\u001b[0m\u001b[0;34m]\u001b[0m\u001b[0;34m[\u001b[0m\u001b[0mname\u001b[0m\u001b[0;34m]\u001b[0m\u001b[0;34m\u001b[0m\u001b[0;34m\u001b[0m\u001b[0m\n\u001b[0m\u001b[1;32m    116\u001b[0m                         \u001b[0;32mif\u001b[0m \u001b[0mvals\u001b[0m \u001b[0;32mis\u001b[0m \u001b[0;32mNone\u001b[0m\u001b[0;34m:\u001b[0m\u001b[0;34m\u001b[0m\u001b[0;34m\u001b[0m\u001b[0m\n",
      "\u001b[0;31mKeyError\u001b[0m: 'Celltype_Garnett'",
      "\nDuring handling of the above exception, another exception occurred:\n",
      "\u001b[0;31mAttributeError\u001b[0m                            Traceback (most recent call last)",
      "\u001b[0;32m<ipython-input-15-cebedee196e8>\u001b[0m in \u001b[0;36m<module>\u001b[0;34m\u001b[0m\n\u001b[1;32m      2\u001b[0m cellAnnot = pd.concat(\n\u001b[1;32m      3\u001b[0m     [\n\u001b[0;32m----> 4\u001b[0;31m         \u001b[0mpd\u001b[0m\u001b[0;34m.\u001b[0m\u001b[0mDataFrame\u001b[0m\u001b[0;34m(\u001b[0m \u001b[0mlf\u001b[0m\u001b[0;34m.\u001b[0m\u001b[0mca\u001b[0m\u001b[0;34m.\u001b[0m\u001b[0mCelltype_Garnett\u001b[0m\u001b[0;34m,\u001b[0m \u001b[0mindex\u001b[0m\u001b[0;34m=\u001b[0m\u001b[0mlf\u001b[0m\u001b[0;34m.\u001b[0m\u001b[0mca\u001b[0m\u001b[0;34m.\u001b[0m\u001b[0mCellID\u001b[0m \u001b[0;34m)\u001b[0m\u001b[0;34m,\u001b[0m\u001b[0;34m\u001b[0m\u001b[0;34m\u001b[0m\u001b[0m\n\u001b[0m\u001b[1;32m      5\u001b[0m         \u001b[0mpd\u001b[0m\u001b[0;34m.\u001b[0m\u001b[0mDataFrame\u001b[0m\u001b[0;34m(\u001b[0m \u001b[0mlf\u001b[0m\u001b[0;34m.\u001b[0m\u001b[0mca\u001b[0m\u001b[0;34m.\u001b[0m\u001b[0mClusterID\u001b[0m\u001b[0;34m,\u001b[0m \u001b[0mindex\u001b[0m\u001b[0;34m=\u001b[0m\u001b[0mlf\u001b[0m\u001b[0;34m.\u001b[0m\u001b[0mca\u001b[0m\u001b[0;34m.\u001b[0m\u001b[0mCellID\u001b[0m \u001b[0;34m)\u001b[0m\u001b[0;34m,\u001b[0m\u001b[0;34m\u001b[0m\u001b[0;34m\u001b[0m\u001b[0m\n\u001b[1;32m      6\u001b[0m         \u001b[0mpd\u001b[0m\u001b[0;34m.\u001b[0m\u001b[0mDataFrame\u001b[0m\u001b[0;34m(\u001b[0m \u001b[0mlf\u001b[0m\u001b[0;34m.\u001b[0m\u001b[0mca\u001b[0m\u001b[0;34m.\u001b[0m\u001b[0mLouvain_clusters_Scanpy\u001b[0m\u001b[0;34m,\u001b[0m \u001b[0mindex\u001b[0m\u001b[0;34m=\u001b[0m\u001b[0mlf\u001b[0m\u001b[0;34m.\u001b[0m\u001b[0mca\u001b[0m\u001b[0;34m.\u001b[0m\u001b[0mCellID\u001b[0m \u001b[0;34m)\u001b[0m\u001b[0;34m,\u001b[0m\u001b[0;34m\u001b[0m\u001b[0;34m\u001b[0m\u001b[0m\n",
      "\u001b[0;32m~/opt/miniconda3/envs/single_cell_py/lib/python3.6/site-packages/loompy/attribute_manager.py\u001b[0m in \u001b[0;36m__getattr__\u001b[0;34m(self, name)\u001b[0m\n\u001b[1;32m    121\u001b[0m                         \u001b[0;32mreturn\u001b[0m \u001b[0mvals\u001b[0m\u001b[0;34m\u001b[0m\u001b[0;34m\u001b[0m\u001b[0m\n\u001b[1;32m    122\u001b[0m                 \u001b[0;32mexcept\u001b[0m \u001b[0mKeyError\u001b[0m\u001b[0;34m:\u001b[0m\u001b[0;34m\u001b[0m\u001b[0;34m\u001b[0m\u001b[0m\n\u001b[0;32m--> 123\u001b[0;31m                         \u001b[0;32mraise\u001b[0m \u001b[0mAttributeError\u001b[0m\u001b[0;34m(\u001b[0m\u001b[0;34mf\"'{type(self)}' object has no attribute '{name}'\"\u001b[0m\u001b[0;34m)\u001b[0m\u001b[0;34m\u001b[0m\u001b[0;34m\u001b[0m\u001b[0m\n\u001b[0m\u001b[1;32m    124\u001b[0m \u001b[0;34m\u001b[0m\u001b[0m\n\u001b[1;32m    125\u001b[0m         \u001b[0;32mdef\u001b[0m \u001b[0m__setitem__\u001b[0m\u001b[0;34m(\u001b[0m\u001b[0mself\u001b[0m\u001b[0;34m,\u001b[0m \u001b[0mname\u001b[0m\u001b[0;34m:\u001b[0m \u001b[0mstr\u001b[0m\u001b[0;34m,\u001b[0m \u001b[0mval\u001b[0m\u001b[0;34m:\u001b[0m \u001b[0mnp\u001b[0m\u001b[0;34m.\u001b[0m\u001b[0mndarray\u001b[0m\u001b[0;34m)\u001b[0m \u001b[0;34m->\u001b[0m \u001b[0;32mNone\u001b[0m\u001b[0;34m:\u001b[0m\u001b[0;34m\u001b[0m\u001b[0;34m\u001b[0m\u001b[0m\n",
      "\u001b[0;31mAttributeError\u001b[0m: '<class 'loompy.attribute_manager.AttributeManager'>' object has no attribute 'Celltype_Garnett'"
     ]
    }
   ],
   "source": [
    "# cell annotations from the loom column attributes:\n",
    "cellAnnot = pd.concat(\n",
    "    [\n",
    "        pd.DataFrame( lf.ca.Celltype_Garnett, index=lf.ca.CellID ),\n",
    "        pd.DataFrame( lf.ca.ClusterID, index=lf.ca.CellID ),\n",
    "        pd.DataFrame( lf.ca.Louvain_clusters_Scanpy, index=lf.ca.CellID ),\n",
    "        pd.DataFrame( lf.ca.Percent_mito, index=lf.ca.CellID ),\n",
    "        pd.DataFrame( lf.ca.nGene, index=lf.ca.CellID ),\n",
    "        pd.DataFrame( lf.ca.nUMI, index=lf.ca.CellID ),\n",
    "    ],\n",
    "    axis=1\n",
    ")\n",
    "cellAnnot.columns = [\n",
    " 'Celltype_Garnett',\n",
    " 'ClusterID',\n",
    " 'Louvain_clusters_Scanpy',\n",
    " 'Percent_mito',\n",
    " 'nGene',\n",
    " 'nUMI']"
   ]
  },
  {
   "cell_type": "code",
   "execution_count": null,
   "id": "30a84e8e-0833-468a-8cbb-7e70532d89bb",
   "metadata": {},
   "outputs": [],
   "source": []
  },
  {
   "cell_type": "code",
   "execution_count": 6,
   "id": "479d3906-33be-46be-be96-f3c8cdfacff5",
   "metadata": {
    "execution": {
     "iopub.execute_input": "2022-02-17T22:48:50.351738Z",
     "iopub.status.busy": "2022-02-17T22:48:50.351610Z",
     "iopub.status.idle": "2022-02-17T22:49:01.933450Z",
     "shell.execute_reply": "2022-02-17T22:49:01.932990Z",
     "shell.execute_reply.started": "2022-02-17T22:48:50.351722Z"
    },
    "tags": []
   },
   "outputs": [],
   "source": [
    "import umap\n",
    "from MulticoreTSNE import MulticoreTSNE as TSNE\n",
    "# UMAP\n",
    "runUmap = umap.UMAP(n_neighbors=10, min_dist=0.4, metric='correlation').fit_transform\n",
    "dr_umap = runUmap( auc_mtx )\n",
    "pd.DataFrame(dr_umap, columns=['X', 'Y'], index=auc_mtx.index).to_csv( \"out/test_scenic_umap.txt\", sep='\\t')"
   ]
  },
  {
   "cell_type": "code",
   "execution_count": 7,
   "id": "5ad63818-03b6-4248-8fa4-dfb1e0e23686",
   "metadata": {
    "execution": {
     "iopub.execute_input": "2022-02-17T22:49:01.934477Z",
     "iopub.status.busy": "2022-02-17T22:49:01.934351Z",
     "iopub.status.idle": "2022-02-17T22:50:31.415522Z",
     "shell.execute_reply": "2022-02-17T22:50:31.415048Z",
     "shell.execute_reply.started": "2022-02-17T22:49:01.934462Z"
    },
    "tags": []
   },
   "outputs": [],
   "source": [
    "# tSNE\n",
    "tsne = TSNE( n_jobs=16 )\n",
    "dr_tsne = tsne.fit_transform( auc_mtx )\n",
    "pd.DataFrame(dr_tsne, columns=['X', 'Y'], index=auc_mtx.index).to_csv( \"out/test_scenic_tsne.txt\", sep='\\t')"
   ]
  },
  {
   "cell_type": "code",
   "execution_count": null,
   "id": "5cb3d0c6-0f0c-4af1-bf17-85d3527e45a1",
   "metadata": {},
   "outputs": [],
   "source": []
  },
  {
   "cell_type": "markdown",
   "id": "945550e2-0b82-4cf9-8109-c3a614946fa7",
   "metadata": {
    "tags": []
   },
   "source": [
    "## Part 2\n",
    "Description"
   ]
  },
  {
   "cell_type": "markdown",
   "id": "99a8c706-ccbe-4156-9e3d-a29c1ecc9e95",
   "metadata": {
    "execution": {
     "iopub.execute_input": "2021-09-08T17:29:42.314098Z",
     "iopub.status.busy": "2021-09-08T17:29:42.313838Z",
     "iopub.status.idle": "2021-09-08T17:29:42.903968Z",
     "shell.execute_reply": "2021-09-08T17:29:42.903216Z",
     "shell.execute_reply.started": "2021-09-08T17:29:42.314069Z"
    },
    "tags": []
   },
   "source": [
    "# Scratch\n",
    "Place for old or testing code"
   ]
  },
  {
   "cell_type": "markdown",
   "id": "ed7ffd88-94c2-45f2-ad87-9f255e8073ff",
   "metadata": {},
   "source": [
    "# References"
   ]
  }
 ],
 "metadata": {
  "kernelspec": {
   "display_name": "Python 3 single_cell",
   "language": "python",
   "name": "single_cell_py"
  },
  "language_info": {
   "codemirror_mode": {
    "name": "ipython",
    "version": 3
   },
   "file_extension": ".py",
   "mimetype": "text/x-python",
   "name": "python",
   "nbconvert_exporter": "python",
   "pygments_lexer": "ipython3",
   "version": "3.6.15"
  }
 },
 "nbformat": 4,
 "nbformat_minor": 5
}
