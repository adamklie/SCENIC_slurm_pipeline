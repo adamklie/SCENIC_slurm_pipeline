{
 "cells": [
  {
   "cell_type": "markdown",
   "id": "90a88efe-ebb3-424c-8704-fb4ee189af2c",
   "metadata": {},
   "source": [
    "# SCENIC Analysis of RUNX1 CRISPR Data"
   ]
  },
  {
   "cell_type": "markdown",
   "id": "2d058003-a667-4b45-9ddc-e47efe48e0e1",
   "metadata": {
    "tags": []
   },
   "source": [
    "**Authorship:**\n",
    "Adam Klie, *02/16/2022*\n",
    "***\n",
    "**Description:**\n",
    "Notebook to do some cool stuff\n",
    "***\n",
    "**TODOs:**\n",
    " - <font color='green'> Done TODO </font>\n",
    " - <font color='orange'> WIP TODO </font>\n",
    " - <font color='red'> Queued TODO </font>\n",
    "***"
   ]
  },
  {
   "cell_type": "markdown",
   "id": "a2a2c4a5-1dac-4dce-8e87-cb83f07de4c3",
   "metadata": {
    "execution": {
     "iopub.execute_input": "2021-09-05T21:21:18.602440Z",
     "iopub.status.busy": "2021-09-05T21:21:18.602151Z",
     "iopub.status.idle": "2021-09-05T21:21:18.606439Z",
     "shell.execute_reply": "2021-09-05T21:21:18.605256Z",
     "shell.execute_reply.started": "2021-09-05T21:21:18.602409Z"
    },
    "tags": []
   },
   "source": [
    "## Set-up"
   ]
  },
  {
   "cell_type": "code",
   "execution_count": 1,
   "id": "3ebaff6f",
   "metadata": {
    "execution": {
     "iopub.execute_input": "2022-02-16T22:30:02.026697Z",
     "iopub.status.busy": "2022-02-16T22:30:02.026568Z",
     "iopub.status.idle": "2022-02-16T22:30:17.892343Z",
     "shell.execute_reply": "2022-02-16T22:30:17.891972Z",
     "shell.execute_reply.started": "2022-02-16T22:30:02.026678Z"
    },
    "tags": []
   },
   "outputs": [],
   "source": [
    "# The classics\n",
    "import os\n",
    "import glob\n",
    "import pickle\n",
    "import pandas as pd\n",
    "import numpy as np\n",
    "import scanpy as sc\n",
    "import loompy as lp\n",
    "\n",
    "from dask.diagnostics import ProgressBar\n",
    "\n",
    "from arboreto.utils import load_tf_names\n",
    "from arboreto.algo import grnboost2\n",
    "\n",
    "from ctxcore.rnkdb import FeatherRankingDatabase as RankingDatabase\n",
    "from pyscenic.utils import modules_from_adjacencies, load_motifs\n",
    "from pyscenic.prune import prune2df, df2regulons\n",
    "from pyscenic.aucell import aucell\n",
    "\n",
    "import seaborn as sns\n",
    "\n",
    "DATA_FOLDER=\"/cellar/users/aklie/data/SCENIC/test\"\n",
    "RESOURCES_FOLDER=\"/cellar/users/aklie/data/SCENIC\"\n",
    "DATABASE_FOLDER = \"/cellar/users/aklie/data/SCENIC/databases\"\n",
    "DATABASES_GLOB = os.path.join(DATABASE_FOLDER, \"mm9-*.mc9nr.feather\")\n",
    "MOTIF_ANNOTATIONS_FNAME = os.path.join(RESOURCES_FOLDER, \"motifs-v9-nr.mgi-m0.001-o0.0.tbl\")\n",
    "MM_TFS_FNAME = os.path.join(RESOURCES_FOLDER, 'mm_tfs.txt')\n",
    "\n",
    "REGULONS_FNAME = os.path.join(DATA_FOLDER, \"regulons.p\")\n",
    "MOTIFS_FNAME = os.path.join(DATA_FOLDER, \"motifs.csv\")\n",
    "\n",
    "# Autoreload extension\n",
    "if 'autoreload' not in get_ipython().extension_manager.loaded:\n",
    "    %load_ext autoreload\n",
    "%autoreload 2"
   ]
  },
  {
   "cell_type": "markdown",
   "id": "524af904",
   "metadata": {
    "tags": []
   },
   "source": [
    "# Load data\n",
    "Description"
   ]
  },
  {
   "cell_type": "code",
   "execution_count": 12,
   "id": "e7e63233-c866-4483-ba58-93a3db072512",
   "metadata": {
    "execution": {
     "iopub.execute_input": "2022-02-16T22:39:59.916470Z",
     "iopub.status.busy": "2022-02-16T22:39:59.916297Z",
     "iopub.status.idle": "2022-02-16T22:40:00.745670Z",
     "shell.execute_reply": "2022-02-16T22:40:00.745321Z",
     "shell.execute_reply.started": "2022-02-16T22:39:59.916451Z"
    },
    "tags": []
   },
   "outputs": [],
   "source": [
    "lf = lp.connect(\"runx1_dox_regressed_LOFandWT.loom\", mode=\"r+\", validate=False)"
   ]
  },
  {
   "cell_type": "code",
   "execution_count": 14,
   "id": "9259b791-286f-4c9a-bdaf-1dd511e01df3",
   "metadata": {
    "execution": {
     "iopub.execute_input": "2022-02-16T22:43:18.916475Z",
     "iopub.status.busy": "2022-02-16T22:43:18.916297Z",
     "iopub.status.idle": "2022-02-16T22:43:20.026781Z",
     "shell.execute_reply": "2022-02-16T22:43:20.026274Z",
     "shell.execute_reply.started": "2022-02-16T22:43:18.916457Z"
    },
    "tags": []
   },
   "outputs": [],
   "source": [
    "lf.close()"
   ]
  },
  {
   "cell_type": "code",
   "execution_count": null,
   "id": "33fa7d56-6579-4b9a-b4a3-96fdb2a466d9",
   "metadata": {},
   "outputs": [],
   "source": []
  },
  {
   "cell_type": "code",
   "execution_count": null,
   "id": "a3988569-5258-4fa2-9600-b23f623d1064",
   "metadata": {},
   "outputs": [],
   "source": []
  },
  {
   "cell_type": "code",
   "execution_count": null,
   "id": "f20e9c71-e0ae-4e98-9ada-25e753d8a220",
   "metadata": {},
   "outputs": [],
   "source": []
  },
  {
   "cell_type": "code",
   "execution_count": 3,
   "id": "10fc3530-a35f-4146-83da-4203dd73b292",
   "metadata": {
    "execution": {
     "iopub.execute_input": "2022-02-16T22:31:59.240739Z",
     "iopub.status.busy": "2022-02-16T22:31:59.240461Z",
     "iopub.status.idle": "2022-02-16T22:32:00.053014Z",
     "shell.execute_reply": "2022-02-16T22:32:00.052622Z",
     "shell.execute_reply.started": "2022-02-16T22:31:59.240714Z"
    },
    "tags": []
   },
   "outputs": [],
   "source": [
    "HS_TFS_FNAME = os.path.join(RESOURCES_FOLDER, 'hs_hgnc_tfs.txt')"
   ]
  },
  {
   "cell_type": "code",
   "execution_count": 4,
   "id": "996fce31-b4ab-40fc-a325-139a593653c2",
   "metadata": {
    "execution": {
     "iopub.execute_input": "2022-02-16T22:32:01.185317Z",
     "iopub.status.busy": "2022-02-16T22:32:01.185149Z",
     "iopub.status.idle": "2022-02-16T22:32:02.139186Z",
     "shell.execute_reply": "2022-02-16T22:32:02.138847Z",
     "shell.execute_reply.started": "2022-02-16T22:32:01.185298Z"
    },
    "tags": []
   },
   "outputs": [],
   "source": [
    "tf_names = load_tf_names(HS_TFS_FNAME)"
   ]
  },
  {
   "cell_type": "code",
   "execution_count": 5,
   "id": "1dc0aa07-7840-47b2-a227-b359e5105ff6",
   "metadata": {
    "execution": {
     "iopub.execute_input": "2022-02-16T22:32:02.865739Z",
     "iopub.status.busy": "2022-02-16T22:32:02.865529Z",
     "iopub.status.idle": "2022-02-16T22:32:03.841927Z",
     "shell.execute_reply": "2022-02-16T22:32:03.841539Z",
     "shell.execute_reply.started": "2022-02-16T22:32:02.865722Z"
    },
    "tags": []
   },
   "outputs": [],
   "source": [
    "SC_EXP_FNAME = os.path.join(DATA_FOLDER, \"pbmc_10k_v3_filtered.loom\")"
   ]
  },
  {
   "cell_type": "code",
   "execution_count": 6,
   "id": "e9b70f6e-ed32-4ea8-ae52-9288efbeb0e0",
   "metadata": {
    "execution": {
     "iopub.execute_input": "2022-02-16T22:32:06.090236Z",
     "iopub.status.busy": "2022-02-16T22:32:06.090079Z",
     "iopub.status.idle": "2022-02-16T22:32:07.154341Z",
     "shell.execute_reply": "2022-02-16T22:32:07.154025Z",
     "shell.execute_reply.started": "2022-02-16T22:32:06.090218Z"
    },
    "tags": []
   },
   "outputs": [
    {
     "data": {
      "text/plain": [
       "'/cellar/users/aklie/data/SCENIC/test/pbmc_10k_v3_filtered.loom'"
      ]
     },
     "execution_count": 6,
     "metadata": {},
     "output_type": "execute_result"
    }
   ],
   "source": [
    "SC_EXP_FNAME"
   ]
  },
  {
   "cell_type": "code",
   "execution_count": 7,
   "id": "f3bbe1eb-efe7-4d93-b25a-9fe41d9ad95e",
   "metadata": {
    "execution": {
     "iopub.execute_input": "2022-02-16T22:32:11.098232Z",
     "iopub.status.busy": "2022-02-16T22:32:11.098070Z",
     "iopub.status.idle": "2022-02-16T22:32:12.315164Z",
     "shell.execute_reply": "2022-02-16T22:32:12.314747Z",
     "shell.execute_reply.started": "2022-02-16T22:32:11.098214Z"
    },
    "tags": []
   },
   "outputs": [],
   "source": [
    "lf = lp.connect(SC_EXP_FNAME, mode='r+', validate=False)"
   ]
  },
  {
   "cell_type": "code",
   "execution_count": 8,
   "id": "7064ebd2-8b61-47ef-b47d-09c354a67869",
   "metadata": {
    "execution": {
     "iopub.execute_input": "2022-02-16T22:32:13.865874Z",
     "iopub.status.busy": "2022-02-16T22:32:13.865720Z",
     "iopub.status.idle": "2022-02-16T22:32:15.257454Z",
     "shell.execute_reply": "2022-02-16T22:32:15.257062Z",
     "shell.execute_reply.started": "2022-02-16T22:32:13.865856Z"
    },
    "tags": []
   },
   "outputs": [],
   "source": [
    "gene_names = lf.ra.Gene"
   ]
  },
  {
   "cell_type": "code",
   "execution_count": 126,
   "id": "059cb3da-ab37-4274-89a9-e687ecc11841",
   "metadata": {
    "execution": {
     "iopub.execute_input": "2022-02-10T19:26:38.750752Z",
     "iopub.status.busy": "2022-02-10T19:26:38.750363Z",
     "iopub.status.idle": "2022-02-10T19:26:39.984110Z",
     "shell.execute_reply": "2022-02-10T19:26:39.983361Z",
     "shell.execute_reply.started": "2022-02-10T19:26:38.750716Z"
    },
    "tags": []
   },
   "outputs": [],
   "source": [
    "rand_genes = np.sort(np.random.choice(len(gene_names), size=100, replace=False))"
   ]
  },
  {
   "cell_type": "code",
   "execution_count": 127,
   "id": "bc77f91a-e1ab-4a80-90b9-df032bdca12c",
   "metadata": {
    "execution": {
     "iopub.execute_input": "2022-02-10T19:26:39.985699Z",
     "iopub.status.busy": "2022-02-10T19:26:39.985451Z",
     "iopub.status.idle": "2022-02-10T19:26:41.328629Z",
     "shell.execute_reply": "2022-02-10T19:26:41.327896Z",
     "shell.execute_reply.started": "2022-02-10T19:26:39.985669Z"
    },
    "tags": []
   },
   "outputs": [],
   "source": [
    "ex_matrix = lf[rand_genes, :100].T"
   ]
  },
  {
   "cell_type": "code",
   "execution_count": 128,
   "id": "b4f46a09-8809-4b34-9936-61dc7590bc3b",
   "metadata": {
    "execution": {
     "iopub.execute_input": "2022-02-10T19:26:41.330279Z",
     "iopub.status.busy": "2022-02-10T19:26:41.330049Z",
     "iopub.status.idle": "2022-02-10T19:26:42.481062Z",
     "shell.execute_reply": "2022-02-10T19:26:42.480206Z",
     "shell.execute_reply.started": "2022-02-10T19:26:41.330249Z"
    },
    "tags": []
   },
   "outputs": [
    {
     "data": {
      "text/plain": [
       "(100, 100)"
      ]
     },
     "execution_count": 128,
     "metadata": {},
     "output_type": "execute_result"
    }
   ],
   "source": [
    "ex_matrix.shape"
   ]
  },
  {
   "cell_type": "code",
   "execution_count": 129,
   "id": "94eaeb96-2cf3-4186-829f-3093a8936e7f",
   "metadata": {
    "execution": {
     "iopub.execute_input": "2022-02-10T19:26:43.036602Z",
     "iopub.status.busy": "2022-02-10T19:26:43.036289Z",
     "iopub.status.idle": "2022-02-10T19:26:43.821299Z",
     "shell.execute_reply": "2022-02-10T19:26:43.820535Z",
     "shell.execute_reply.started": "2022-02-10T19:26:43.036570Z"
    },
    "tags": []
   },
   "outputs": [],
   "source": [
    "gene_names = gene_names[rand_genes]"
   ]
  },
  {
   "cell_type": "code",
   "execution_count": 130,
   "id": "7c23d2da-1036-4c16-8783-1d2c2e6b1982",
   "metadata": {
    "execution": {
     "iopub.execute_input": "2022-02-10T19:26:44.473225Z",
     "iopub.status.busy": "2022-02-10T19:26:44.472753Z",
     "iopub.status.idle": "2022-02-10T19:26:45.553556Z",
     "shell.execute_reply": "2022-02-10T19:26:45.552455Z",
     "shell.execute_reply.started": "2022-02-10T19:26:44.473190Z"
    },
    "tags": []
   },
   "outputs": [
    {
     "data": {
      "text/plain": [
       "7"
      ]
     },
     "execution_count": 130,
     "metadata": {},
     "output_type": "execute_result"
    }
   ],
   "source": [
    "np.array([tf in gene_names for tf in tf_names]).sum()"
   ]
  },
  {
   "cell_type": "code",
   "execution_count": 135,
   "id": "6c4b735d-eed3-4986-84b1-9c02e7323eef",
   "metadata": {
    "execution": {
     "iopub.execute_input": "2022-02-10T19:28:58.334158Z",
     "iopub.status.busy": "2022-02-10T19:28:58.333808Z",
     "iopub.status.idle": "2022-02-10T19:29:40.744156Z",
     "shell.execute_reply": "2022-02-10T19:29:40.743252Z",
     "shell.execute_reply.started": "2022-02-10T19:28:58.334125Z"
    },
    "tags": []
   },
   "outputs": [
    {
     "name": "stdout",
     "output_type": "stream",
     "text": [
      "preparing dask client\n",
      "parsing input\n",
      "creating dask graph\n",
      "4 partitions\n",
      "computing dask graph\n",
      "shutting down client and local cluster\n",
      "finished\n"
     ]
    }
   ],
   "source": [
    "adjacencies = grnboost2(ex_matrix, gene_names=gene_names, tf_names=tf_names, verbose=True)"
   ]
  },
  {
   "cell_type": "code",
   "execution_count": 137,
   "id": "b58a9b4d-fb27-4249-ac31-8fd3b4efb586",
   "metadata": {
    "execution": {
     "iopub.execute_input": "2022-02-10T19:31:21.068455Z",
     "iopub.status.busy": "2022-02-10T19:31:21.068141Z",
     "iopub.status.idle": "2022-02-10T19:31:22.344763Z",
     "shell.execute_reply": "2022-02-10T19:31:22.343890Z",
     "shell.execute_reply.started": "2022-02-10T19:31:21.068423Z"
    }
   },
   "outputs": [
    {
     "data": {
      "text/html": [
       "<div>\n",
       "<style scoped>\n",
       "    .dataframe tbody tr th:only-of-type {\n",
       "        vertical-align: middle;\n",
       "    }\n",
       "\n",
       "    .dataframe tbody tr th {\n",
       "        vertical-align: top;\n",
       "    }\n",
       "\n",
       "    .dataframe thead th {\n",
       "        text-align: right;\n",
       "    }\n",
       "</style>\n",
       "<table border=\"1\" class=\"dataframe\">\n",
       "  <thead>\n",
       "    <tr style=\"text-align: right;\">\n",
       "      <th></th>\n",
       "      <th>TF</th>\n",
       "      <th>target</th>\n",
       "      <th>importance</th>\n",
       "    </tr>\n",
       "  </thead>\n",
       "  <tbody>\n",
       "    <tr>\n",
       "      <th>2</th>\n",
       "      <td>TFCP2</td>\n",
       "      <td>TRIP12</td>\n",
       "      <td>133.569647</td>\n",
       "    </tr>\n",
       "    <tr>\n",
       "      <th>3</th>\n",
       "      <td>STAT2</td>\n",
       "      <td>NCOA3</td>\n",
       "      <td>63.175974</td>\n",
       "    </tr>\n",
       "    <tr>\n",
       "      <th>2</th>\n",
       "      <td>TFCP2</td>\n",
       "      <td>PTPN9</td>\n",
       "      <td>56.015975</td>\n",
       "    </tr>\n",
       "    <tr>\n",
       "      <th>2</th>\n",
       "      <td>TFCP2</td>\n",
       "      <td>GOLGA4</td>\n",
       "      <td>44.035894</td>\n",
       "    </tr>\n",
       "    <tr>\n",
       "      <th>3</th>\n",
       "      <td>STAT2</td>\n",
       "      <td>ZFAND5</td>\n",
       "      <td>29.362224</td>\n",
       "    </tr>\n",
       "    <tr>\n",
       "      <th>...</th>\n",
       "      <td>...</td>\n",
       "      <td>...</td>\n",
       "      <td>...</td>\n",
       "    </tr>\n",
       "    <tr>\n",
       "      <th>0</th>\n",
       "      <td>RFX5</td>\n",
       "      <td>AC020913.1</td>\n",
       "      <td>0.016669</td>\n",
       "    </tr>\n",
       "    <tr>\n",
       "      <th>5</th>\n",
       "      <td>ZNF566</td>\n",
       "      <td>AC012150.1</td>\n",
       "      <td>0.015244</td>\n",
       "    </tr>\n",
       "    <tr>\n",
       "      <th>5</th>\n",
       "      <td>ZNF566</td>\n",
       "      <td>AC020913.1</td>\n",
       "      <td>0.010048</td>\n",
       "    </tr>\n",
       "    <tr>\n",
       "      <th>5</th>\n",
       "      <td>ZNF566</td>\n",
       "      <td>TBC1D12</td>\n",
       "      <td>0.009200</td>\n",
       "    </tr>\n",
       "    <tr>\n",
       "      <th>5</th>\n",
       "      <td>ZNF566</td>\n",
       "      <td>MBOAT2</td>\n",
       "      <td>0.004524</td>\n",
       "    </tr>\n",
       "  </tbody>\n",
       "</table>\n",
       "<p>426 rows × 3 columns</p>\n",
       "</div>"
      ],
      "text/plain": [
       "        TF      target  importance\n",
       "2    TFCP2      TRIP12  133.569647\n",
       "3    STAT2       NCOA3   63.175974\n",
       "2    TFCP2       PTPN9   56.015975\n",
       "2    TFCP2      GOLGA4   44.035894\n",
       "3    STAT2      ZFAND5   29.362224\n",
       "..     ...         ...         ...\n",
       "0     RFX5  AC020913.1    0.016669\n",
       "5   ZNF566  AC012150.1    0.015244\n",
       "5   ZNF566  AC020913.1    0.010048\n",
       "5   ZNF566     TBC1D12    0.009200\n",
       "5   ZNF566      MBOAT2    0.004524\n",
       "\n",
       "[426 rows x 3 columns]"
      ]
     },
     "execution_count": 137,
     "metadata": {},
     "output_type": "execute_result"
    }
   ],
   "source": [
    "adjacencies"
   ]
  },
  {
   "cell_type": "code",
   "execution_count": 136,
   "id": "98480ffc-2f74-4afe-944a-a639499806bb",
   "metadata": {
    "execution": {
     "iopub.execute_input": "2022-02-10T19:29:40.750480Z",
     "iopub.status.busy": "2022-02-10T19:29:40.749438Z",
     "iopub.status.idle": "2022-02-10T19:29:42.163773Z",
     "shell.execute_reply": "2022-02-10T19:29:42.162465Z",
     "shell.execute_reply.started": "2022-02-10T19:29:40.750415Z"
    },
    "tags": []
   },
   "outputs": [
    {
     "ename": "AttributeError",
     "evalue": "'numpy.ndarray' object has no attribute 'columns'",
     "output_type": "error",
     "traceback": [
      "\u001b[0;31m---------------------------------------------------------------------------\u001b[0m",
      "\u001b[0;31mAttributeError\u001b[0m                            Traceback (most recent call last)",
      "\u001b[0;32m<ipython-input-136-a9e898c2ce0d>\u001b[0m in \u001b[0;36m<module>\u001b[0;34m\u001b[0m\n\u001b[0;32m----> 1\u001b[0;31m \u001b[0mmodules\u001b[0m \u001b[0;34m=\u001b[0m \u001b[0mlist\u001b[0m\u001b[0;34m(\u001b[0m\u001b[0mmodules_from_adjacencies\u001b[0m\u001b[0;34m(\u001b[0m\u001b[0madjacencies\u001b[0m\u001b[0;34m,\u001b[0m \u001b[0mex_matrix\u001b[0m\u001b[0;34m)\u001b[0m\u001b[0;34m)\u001b[0m\u001b[0;34m\u001b[0m\u001b[0;34m\u001b[0m\u001b[0m\n\u001b[0m",
      "\u001b[0;32m~/opt/miniconda3/envs/single_cell_py/lib/python3.6/site-packages/pyscenic/utils.py\u001b[0m in \u001b[0;36mmodules_from_adjacencies\u001b[0;34m(adjacencies, ex_mtx, thresholds, top_n_targets, top_n_regulators, min_genes, absolute_thresholds, rho_dichotomize, keep_only_activating, rho_threshold, rho_mask_dropouts)\u001b[0m\n\u001b[1;32m    255\u001b[0m     \u001b[0;31m# In addition, also make sure the expression matrix consists of floating point numbers. This requirement might\u001b[0m\u001b[0;34m\u001b[0m\u001b[0;34m\u001b[0m\u001b[0;34m\u001b[0m\u001b[0m\n\u001b[1;32m    256\u001b[0m     \u001b[0;31m# be violated when dealing with raw counts as input.\u001b[0m\u001b[0;34m\u001b[0m\u001b[0;34m\u001b[0m\u001b[0;34m\u001b[0m\u001b[0m\n\u001b[0;32m--> 257\u001b[0;31m     \u001b[0mex_mtx\u001b[0m \u001b[0;34m=\u001b[0m \u001b[0mex_mtx\u001b[0m\u001b[0;34m.\u001b[0m\u001b[0mT\u001b[0m\u001b[0;34m[\u001b[0m\u001b[0;34m~\u001b[0m\u001b[0mex_mtx\u001b[0m\u001b[0;34m.\u001b[0m\u001b[0mcolumns\u001b[0m\u001b[0;34m.\u001b[0m\u001b[0mduplicated\u001b[0m\u001b[0;34m(\u001b[0m\u001b[0mkeep\u001b[0m\u001b[0;34m=\u001b[0m\u001b[0;34m'first'\u001b[0m\u001b[0;34m)\u001b[0m\u001b[0;34m]\u001b[0m\u001b[0;34m.\u001b[0m\u001b[0mT\u001b[0m\u001b[0;34m.\u001b[0m\u001b[0mastype\u001b[0m\u001b[0;34m(\u001b[0m\u001b[0mfloat\u001b[0m\u001b[0;34m)\u001b[0m\u001b[0;34m\u001b[0m\u001b[0;34m\u001b[0m\u001b[0m\n\u001b[0m\u001b[1;32m    258\u001b[0m \u001b[0;34m\u001b[0m\u001b[0m\n\u001b[1;32m    259\u001b[0m     \u001b[0;31m# To make the pySCENIC code more robust to the selection of the network inference method in the first step of\u001b[0m\u001b[0;34m\u001b[0m\u001b[0;34m\u001b[0m\u001b[0;34m\u001b[0m\u001b[0m\n",
      "\u001b[0;31mAttributeError\u001b[0m: 'numpy.ndarray' object has no attribute 'columns'"
     ]
    }
   ],
   "source": [
    "modules = list(modules_from_adjacencies(adjacencies, ex_matrix))"
   ]
  },
  {
   "cell_type": "markdown",
   "id": "945550e2-0b82-4cf9-8109-c3a614946fa7",
   "metadata": {
    "tags": []
   },
   "source": [
    "## Part 2\n",
    "Description"
   ]
  },
  {
   "cell_type": "markdown",
   "id": "99a8c706-ccbe-4156-9e3d-a29c1ecc9e95",
   "metadata": {
    "execution": {
     "iopub.execute_input": "2021-09-08T17:29:42.314098Z",
     "iopub.status.busy": "2021-09-08T17:29:42.313838Z",
     "iopub.status.idle": "2021-09-08T17:29:42.903968Z",
     "shell.execute_reply": "2021-09-08T17:29:42.903216Z",
     "shell.execute_reply.started": "2021-09-08T17:29:42.314069Z"
    },
    "tags": []
   },
   "source": [
    "# Scratch\n",
    "Place for old or testing code"
   ]
  },
  {
   "cell_type": "markdown",
   "id": "ed7ffd88-94c2-45f2-ad87-9f255e8073ff",
   "metadata": {},
   "source": [
    "# References"
   ]
  }
 ],
 "metadata": {
  "kernelspec": {
   "display_name": "Python 3 single_cell",
   "language": "python",
   "name": "single_cell_py"
  },
  "language_info": {
   "codemirror_mode": {
    "name": "ipython",
    "version": 3
   },
   "file_extension": ".py",
   "mimetype": "text/x-python",
   "name": "python",
   "nbconvert_exporter": "python",
   "pygments_lexer": "ipython3",
   "version": "3.6.13"
  }
 },
 "nbformat": 4,
 "nbformat_minor": 5
}
