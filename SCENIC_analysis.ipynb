{
 "cells": [
  {
   "cell_type": "markdown",
   "id": "90a88efe-ebb3-424c-8704-fb4ee189af2c",
   "metadata": {},
   "source": [
    "# Template SCENIC Analysis"
   ]
  },
  {
   "cell_type": "markdown",
   "id": "2d058003-a667-4b45-9ddc-e47efe48e0e1",
   "metadata": {
    "tags": []
   },
   "source": [
    "**Authorship:**\n",
    "Adam Klie, *02/16/2022*\n",
    "***\n",
    "**Description:**\n",
    "Template notebook for loading SCENIC results after running the SCENICprotocol\n",
    "***\n",
    "**TODOs:**\n",
    " - <font color='red'> Put together all the objects from data that you have </font>\n",
    " - <font color='red'> Visualization of embeddings </font>\n",
    " - <font color='red'> RSS analysis </font>\n",
    " - <font color='red'> Working with network inference output </font>\n",
    "***"
   ]
  },
  {
   "cell_type": "markdown",
   "id": "a2a2c4a5-1dac-4dce-8e87-cb83f07de4c3",
   "metadata": {
    "execution": {
     "iopub.execute_input": "2021-09-05T21:21:18.602440Z",
     "iopub.status.busy": "2021-09-05T21:21:18.602151Z",
     "iopub.status.idle": "2021-09-05T21:21:18.606439Z",
     "shell.execute_reply": "2021-09-05T21:21:18.605256Z",
     "shell.execute_reply.started": "2021-09-05T21:21:18.602409Z"
    },
    "tags": []
   },
   "source": [
    "# Set-up"
   ]
  },
  {
   "cell_type": "code",
   "execution_count": 4,
   "id": "3ebaff6f",
   "metadata": {
    "execution": {
     "iopub.execute_input": "2022-02-22T23:20:36.426342Z",
     "iopub.status.busy": "2022-02-22T23:20:36.426030Z",
     "iopub.status.idle": "2022-02-22T23:20:37.359427Z",
     "shell.execute_reply": "2022-02-22T23:20:37.358598Z",
     "shell.execute_reply.started": "2022-02-22T23:20:36.426308Z"
    },
    "tags": []
   },
   "outputs": [],
   "source": [
    "# The classics\n",
    "import os\n",
    "import glob\n",
    "import pandas as pd\n",
    "import numpy as np\n",
    "import scanpy as sc\n",
    "import loompy as lp\n",
    "\n",
    "import json\n",
    "import base64\n",
    "import zlib\n",
    "\n",
    "# Autoreload extension\n",
    "if 'autoreload' not in get_ipython().extension_manager.loaded:\n",
    "    %load_ext autoreload\n",
    "%autoreload 2"
   ]
  },
  {
   "cell_type": "markdown",
   "id": "524af904",
   "metadata": {
    "tags": []
   },
   "source": [
    "# Load SCENIC results"
   ]
  },
  {
   "cell_type": "markdown",
   "id": "6919caaf-7cd0-4cd9-abd2-595686007f8c",
   "metadata": {
    "tags": [],
    "toc-hr-collapsed": true
   },
   "source": [
    "## Load any Metadata, the AUC matrix and the expression matrix"
   ]
  },
  {
   "cell_type": "code",
   "execution_count": 6,
   "id": "0ba9436e-6e8e-4f6f-abb2-54286a08ae9c",
   "metadata": {
    "execution": {
     "iopub.execute_input": "2022-02-22T23:20:43.115821Z",
     "iopub.status.busy": "2022-02-22T23:20:43.115516Z",
     "iopub.status.idle": "2022-02-22T23:20:48.713393Z",
     "shell.execute_reply": "2022-02-22T23:20:48.712660Z",
     "shell.execute_reply.started": "2022-02-22T23:20:43.115790Z"
    },
    "tags": []
   },
   "outputs": [],
   "source": [
    "# collect SCENIC AUCell output\n",
    "lf = lp.connect(\"out/test_pyscenic_output.loom\", mode='r+', validate=False )\n",
    "meta = json.loads(zlib.decompress(base64.b64decode( lf.attrs.MetaData )))\n",
    "exprMat = pd.DataFrame( lf[:,:], index=lf.ra.Gene, columns=lf.ca.CellID).T\n",
    "auc_mtx = pd.DataFrame( lf.ca.RegulonsAUC, index=lf.ca.CellID)\n"
   ]
  },
  {
   "cell_type": "code",
   "execution_count": null,
   "id": "6e1cceda-b47a-438e-bc3e-61d767cc9be7",
   "metadata": {},
   "outputs": [],
   "source": [
    "# create a dictionary of regulons:\n",
    "regulons = {}\n",
    "for i,r in pd.DataFrame(lf.ra.Regulons,index=lf.ra.Gene).iteritems():\n",
    "    regulons[i] =  list(r[r==1].index.values)"
   ]
  },
  {
   "cell_type": "code",
   "execution_count": null,
   "id": "08affb51-24b6-4b36-915b-23ceb47aaf78",
   "metadata": {},
   "outputs": [],
   "source": [
    "# cell annotations from the loom column attributes:\n",
    "cellAnnot = pd.concat(\n",
    "    [\n",
    "        pd.DataFrame( lf.ca.Celltype_Garnett, index=lf.ca.CellID ),\n",
    "        pd.DataFrame( lf.ca.ClusterID, index=lf.ca.CellID ),\n",
    "        pd.DataFrame( lf.ca.Louvain_clusters_Scanpy, index=lf.ca.CellID ),\n",
    "        pd.DataFrame( lf.ca.Percent_mito, index=lf.ca.CellID ),\n",
    "        pd.DataFrame( lf.ca.nGene, index=lf.ca.CellID ),\n",
    "        pd.DataFrame( lf.ca.nUMI, index=lf.ca.CellID ),\n",
    "    ],\n",
    "    axis=1\n",
    ")\n",
    "cellAnnot.columns = [\n",
    " 'Celltype_Garnett',\n",
    " 'ClusterID',\n",
    " 'Louvain_clusters_Scanpy',\n",
    " 'Percent_mito',\n",
    " 'nGene',\n",
    " 'nUMI']"
   ]
  },
  {
   "cell_type": "code",
   "execution_count": null,
   "id": "691f15be-ec57-4a9a-9c49-3eecc6b98ff7",
   "metadata": {},
   "outputs": [],
   "source": [
    "# capture embeddings:\n",
    "dr = [\n",
    "    pd.DataFrame( lf.ca.Embedding, index=lf.ca.CellID )\n",
    "]\n",
    "dr_names = [\n",
    "    meta['embeddings'][0]['name'].replace(\" \",\"_\")\n",
    "]\n",
    "\n",
    "# add other embeddings\n",
    "drx = pd.DataFrame( lf.ca.Embeddings_X, index=lf.ca.CellID )\n",
    "dry = pd.DataFrame( lf.ca.Embeddings_Y, index=lf.ca.CellID )\n",
    "\n",
    "for i in range( len(drx.columns) ):\n",
    "    dr.append( pd.concat( [ drx.iloc[:,i], dry.iloc[:,i] ], sort=False, axis=1, join='outer' ))\n",
    "    dr_names.append( meta['embeddings'][i+1]['name'].replace(\" \",\"_\").replace('/','-') )\n",
    "\n",
    "# rename columns:\n",
    "for i,x in enumerate( dr ):\n",
    "    x.columns = ['X','Y']"
   ]
  },
  {
   "cell_type": "code",
   "execution_count": null,
   "id": "031ad733-4f9e-4549-8d75-d3c0b8aa9531",
   "metadata": {},
   "outputs": [],
   "source": [
    "lf.close()"
   ]
  },
  {
   "cell_type": "markdown",
   "id": "ac1d6c81-797c-4dca-8cb6-610e2c51766d",
   "metadata": {},
   "source": [
    "# Dimensionality reduction and visualization"
   ]
  },
  {
   "cell_type": "markdown",
   "id": "059146d1-ad54-4e4e-84fc-11e6ba859818",
   "metadata": {},
   "source": [
    "# Regulon specificity scores (RSS) across predicted cell types"
   ]
  },
  {
   "cell_type": "markdown",
   "id": "3bc72237-1868-417f-93b4-309981acc526",
   "metadata": {},
   "source": [
    "# Network inference output"
   ]
  },
  {
   "cell_type": "markdown",
   "id": "99a8c706-ccbe-4156-9e3d-a29c1ecc9e95",
   "metadata": {
    "execution": {
     "iopub.execute_input": "2021-09-08T17:29:42.314098Z",
     "iopub.status.busy": "2021-09-08T17:29:42.313838Z",
     "iopub.status.idle": "2021-09-08T17:29:42.903968Z",
     "shell.execute_reply": "2021-09-08T17:29:42.903216Z",
     "shell.execute_reply.started": "2021-09-08T17:29:42.314069Z"
    },
    "tags": []
   },
   "source": [
    "# Scratch\n",
    "Place for old or testing code"
   ]
  },
  {
   "cell_type": "markdown",
   "id": "ed7ffd88-94c2-45f2-ad87-9f255e8073ff",
   "metadata": {},
   "source": [
    "# References\n",
    "1. [PBMC10k_downstream-analysis.html](https://github.com/aertslab/SCENICprotocol/blob/master/notebooks/PBMC10k_downstream-analysis.ipynb)\n",
    "2. `AK_02_scenic_analysis.ipynb`"
   ]
  }
 ],
 "metadata": {
  "kernelspec": {
   "display_name": "Python 3 single_cell",
   "language": "python",
   "name": "single_cell_py"
  },
  "language_info": {
   "codemirror_mode": {
    "name": "ipython",
    "version": 3
   },
   "file_extension": ".py",
   "mimetype": "text/x-python",
   "name": "python",
   "nbconvert_exporter": "python",
   "pygments_lexer": "ipython3",
   "version": "3.6.15"
  }
 },
 "nbformat": 4,
 "nbformat_minor": 5
}
