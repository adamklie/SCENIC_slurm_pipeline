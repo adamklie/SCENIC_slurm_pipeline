{
 "cells": [
  {
   "cell_type": "markdown",
   "id": "90a88efe-ebb3-424c-8704-fb4ee189af2c",
   "metadata": {},
   "source": [
    "# Template SCENIC Analysis"
   ]
  },
  {
   "cell_type": "markdown",
   "id": "2d058003-a667-4b45-9ddc-e47efe48e0e1",
   "metadata": {
    "tags": []
   },
   "source": [
    "**Authorship:**\n",
    "Adam Klie, *02/16/2022*\n",
    "***\n",
    "**Description:**\n",
    "Template notebook for loading SCENIC results after running the SCENICprotocol\n",
    "***\n",
    "**TODOs:**\n",
    " - <font color='green'> Done TODO </font>\n",
    " - <font color='orange'> WIP TODO </font>\n",
    " - <font color='red'> Queued TODO </font>\n",
    "***"
   ]
  },
  {
   "cell_type": "markdown",
   "id": "a2a2c4a5-1dac-4dce-8e87-cb83f07de4c3",
   "metadata": {
    "execution": {
     "iopub.execute_input": "2021-09-05T21:21:18.602440Z",
     "iopub.status.busy": "2021-09-05T21:21:18.602151Z",
     "iopub.status.idle": "2021-09-05T21:21:18.606439Z",
     "shell.execute_reply": "2021-09-05T21:21:18.605256Z",
     "shell.execute_reply.started": "2021-09-05T21:21:18.602409Z"
    },
    "tags": []
   },
   "source": [
    "# Set-up"
   ]
  },
  {
   "cell_type": "markdown",
   "id": "99a8c706-ccbe-4156-9e3d-a29c1ecc9e95",
   "metadata": {
    "execution": {
     "iopub.execute_input": "2021-09-08T17:29:42.314098Z",
     "iopub.status.busy": "2021-09-08T17:29:42.313838Z",
     "iopub.status.idle": "2021-09-08T17:29:42.903968Z",
     "shell.execute_reply": "2021-09-08T17:29:42.903216Z",
     "shell.execute_reply.started": "2021-09-08T17:29:42.314069Z"
    },
    "tags": []
   },
   "source": [
    "# Scratch\n",
    "Place for old or testing code"
   ]
  },
  {
   "cell_type": "markdown",
   "id": "607e46fc-d753-473e-98f9-3f65060d1801",
   "metadata": {},
   "source": [
    "# References\n",
    "1. [PBMC10k_downstream-analysis.html](https://github.com/aertslab/SCENICprotocol/blob/master/notebooks/PBMC10k_downstream-analysis.ipynb)\n",
    "2. `AK_03_scenic_batch_analysis.ipynb`"
   ]
  }
 ],
 "metadata": {
  "kernelspec": {
   "display_name": "Python 3 single_cell",
   "language": "python",
   "name": "single_cell_py"
  },
  "language_info": {
   "codemirror_mode": {
    "name": "ipython",
    "version": 3
   },
   "file_extension": ".py",
   "mimetype": "text/x-python",
   "name": "python",
   "nbconvert_exporter": "python",
   "pygments_lexer": "ipython3",
   "version": "3.6.15"
  }
 },
 "nbformat": 4,
 "nbformat_minor": 5
}
